{
 "cells": [
  {
   "cell_type": "markdown",
   "metadata": {},
   "source": [
    "# Data Set Generation"
   ]
  },
  {
   "cell_type": "code",
   "execution_count": null,
   "metadata": {},
   "outputs": [],
   "source": [
    "import datetime\n",
    "import pandas as pd\n",
    "import numpy as np\n",
    "#from sktime.forecasting.model_selection import temporal_train_test_split\n",
    "from sklearn.model_selection import train_test_split, GroupShuffleSplit\n",
    "from matplotlib import pyplot as plt\n",
    "import janitor\n",
    "from sklearn.linear_model import LinearRegression\n",
    "\n",
    "SEED = 0\n",
    "np.random.seed(SEED)\n",
    "pd.set_option('display.max_columns', None)"
   ]
  },
  {
   "cell_type": "code",
   "execution_count": null,
   "metadata": {},
   "outputs": [],
   "source": [
    "longitudinal_ehr = pd.read_csv('./data/updated_raw_data_7_29_22.csv', index_col=0, parse_dates=['HIRE_DATE', 'TERM_DATE', 'ReportingPeriodStartDate'])\n",
    "#longitudinal_ehr = pd.read_csv('./data/ZZ_data_zz/turbo_data_10-10-21_deID.csv', index_col=0, parse_dates=['HIRE_DATE', 'TERM_DATE', 'ReportingPeriodStartDate'])\n",
    "#longitudinal_ehr_age = pd.read_csv('longitudinal_ehr_age_group.csv', index_col=0, parse_dates=['hire_date', 'term_date', 'reportingperiodstartdate'])"
   ]
  },
  {
   "cell_type": "code",
   "execution_count": null,
   "metadata": {},
   "outputs": [],
   "source": [
    "longitudinal_ehr['physician_id'] = longitudinal_ehr.index\n",
    "longitudinal_ehr = longitudinal_ehr.reset_index(drop=True)\n",
    "longitudinal_ehr = longitudinal_ehr.clean_names(remove_special=True)\n",
    "longitudinal_ehr = longitudinal_ehr.sort_values(['physician_id','reportingperiodstartdate'])\n",
    "longitudinal_ehr\n"
   ]
  },
  {
   "cell_type": "code",
   "execution_count": null,
   "metadata": {},
   "outputs": [],
   "source": [
    "# look at some basic stats for mal vs female\n",
    "longitudinal_ehr[longitudinal_ehr['gender'] == 'Female']['specialty'].value_counts()"
   ]
  },
  {
   "cell_type": "code",
   "execution_count": null,
   "metadata": {},
   "outputs": [],
   "source": [
    "longitudinal_ehr['reportingperiodstartdate'].max()"
   ]
  },
  {
   "cell_type": "code",
   "execution_count": null,
   "metadata": {},
   "outputs": [],
   "source": [
    "longitudinal_ehr['reportingperiodstartdate'].min()"
   ]
  },
  {
   "cell_type": "code",
   "execution_count": null,
   "metadata": {},
   "outputs": [],
   "source": [
    "(longitudinal_ehr['reportingperiodstartdate'].max()-longitudinal_ehr['reportingperiodstartdate'].min())"
   ]
  },
  {
   "cell_type": "code",
   "execution_count": null,
   "metadata": {},
   "outputs": [],
   "source": [
    "longitudinal_ehr['date_yyyymm'].min()"
   ]
  },
  {
   "cell_type": "code",
   "execution_count": null,
   "metadata": {},
   "outputs": [],
   "source": [
    "longitudinal_ehr['date_yyyymm'].max()"
   ]
  },
  {
   "cell_type": "code",
   "execution_count": null,
   "metadata": {},
   "outputs": [],
   "source": [
    "assert all(longitudinal_ehr.groupby(['physician_id'])['reportingperiodstartdate'].is_monotonic_increasing), 'Not monotonic increasing'"
   ]
  },
  {
   "cell_type": "code",
   "execution_count": null,
   "metadata": {},
   "outputs": [],
   "source": [
    "longitudinal_ehr.groupby(['physician_id'])['reportingperiodstartdate'].is_monotonic_increasing"
   ]
  },
  {
   "cell_type": "code",
   "execution_count": null,
   "metadata": {},
   "outputs": [],
   "source": [
    "print(f\"num physcicians: {len(longitudinal_ehr['physician_id'].unique())}\")\n",
    "print(f\"num quit: {sum(~longitudinal_ehr.groupby('physician_id').last()['term_date'].isna())}\")"
   ]
  },
  {
   "cell_type": "code",
   "execution_count": null,
   "metadata": {},
   "outputs": [],
   "source": [
    "# Add in the time_8 entries\n",
    "ehr_time_8 = (((longitudinal_ehr['time_in_system_per_day_num']/60)/(longitudinal_ehr['sched_time_appts_in_hrs']))*8)\n",
    "wow_time_8 = (((longitudinal_ehr['time_outside_scheduled_hours_num'] + longitudinal_ehr['time_on_unscheduled_days_value'])/60)/longitudinal_ehr['sched_time_appts_in_hrs']) * 8\n",
    "note_time_8 = ((longitudinal_ehr['time_in_notes_per_day_num']/60)/(longitudinal_ehr['sched_time_appts_in_hrs']))*8\n",
    "order_time_8 = ((longitudinal_ehr['time_in_orders_per_day_num']/60)/(longitudinal_ehr['sched_time_appts_in_hrs']))*8\n",
    "ib_time_8 = ((longitudinal_ehr['time_in_in_basket_per_day_num']/60)/(longitudinal_ehr['sched_time_appts_in_hrs']))*8\n",
    "review_time_8 = ((longitudinal_ehr['time_in_clinical_review_per_day_num']/60)/(longitudinal_ehr['sched_time_appts_in_hrs']))*8\n",
    "longitudinal_ehr['ehr_time_8'] = ehr_time_8\n",
    "longitudinal_ehr['wow_time_8'] = wow_time_8\n",
    "longitudinal_ehr['note_time_8'] = note_time_8\n",
    "longitudinal_ehr['order_time_8'] = order_time_8\n",
    "longitudinal_ehr['ib_time_8'] = ib_time_8\n",
    "longitudinal_ehr['review_time_8'] = review_time_8"
   ]
  },
  {
   "cell_type": "code",
   "execution_count": null,
   "metadata": {},
   "outputs": [],
   "source": [
    "# constants for analysis\n",
    "n_months = 6\n",
    "forecast_lead_time = n_months*30 # forecast departures within this lead time interval, days"
   ]
  },
  {
   "cell_type": "code",
   "execution_count": null,
   "metadata": {},
   "outputs": [],
   "source": [
    "# Want to flag physicians on the months leading up to the quit NOT if they have quit within x days \n",
    "# of study date as they may have been hired at a different time\n",
    "# find time to departure and observations with time to departure meeting criterion\n",
    "longitudinal_ehr['time_to_departure'] = (longitudinal_ehr['term_date'] - longitudinal_ehr['reportingperiodstartdate']).dt.days\n",
    "#plt.hist(data['time_to_departure'])\n",
    "#remnove 0's their last n-1 observations (last 6 months?)\n",
    "# if we remove the last 6 months we can guarentee that they didnt quit in the last 6 months. otherwise we cant assign that label\n",
    "longitudinal_ehr['departure_in_interval'] = longitudinal_ehr['time_to_departure'] < forecast_lead_time\n",
    "\n",
    "# hire date to tenure in approx years\n",
    "longitudinal_ehr['tenure'] = (longitudinal_ehr['reportingperiodstartdate'] - longitudinal_ehr['hire_date']).dt.days/365\n",
    "\n",
    "# re-code reporting period start\n",
    "first_obs = min(longitudinal_ehr['reportingperiodstartdate'])\n",
    "longitudinal_ehr['study_day'] = (longitudinal_ehr['reportingperiodstartdate'] - first_obs).dt.days\n",
    "\n",
    "# variable for month of observation\n",
    "longitudinal_ehr['calendar_month'] = longitudinal_ehr['reportingperiodstartdate'].dt.month\n",
    "\n",
    "# Continuous age mapped to age range number\n",
    "bins = [24, 34, 44, 54, 64, np.inf]\n",
    "names = ['25-34', '35-44', '45-54', '55-64', '65+']\n",
    "names = [0, 1, 2, 3, 4]\n",
    "longitudinal_ehr['age_group'] = pd.cut(longitudinal_ehr['age_as_of_06_30_2021'], bins, labels=names).tolist()\n",
    "#longitudinal_ehr = longitudinal_ehr.drop('age_as_of_06_30_2021', axis=1)\n",
    "# Convert reporting period start date into covid waves\n",
    "from datetime import datetime, timedelta\n",
    "bins = [\n",
    "    longitudinal_ehr['reportingperiodstartdate'].min() - timedelta(days = 1),# february and before\n",
    "    datetime.strptime('Mar 2020', '%b %Y'),\n",
    "    datetime.strptime('Jul 2020', '%b %Y'),\n",
    "    datetime.strptime('Nov 2020', '%b %Y'),\n",
    "    datetime.strptime('Apr 2021', '%b %Y'),# april and after \n",
    "    longitudinal_ehr['reportingperiodstartdate'].max() + timedelta(days = 1),\n",
    "]\n",
    "names = [0, 1, 2, 3, 4]\n",
    "longitudinal_ehr['covid_wave'] = pd.cut(longitudinal_ehr['reportingperiodstartdate'], bins, labels=names).tolist()\n",
    "\n",
    "# gender to integer level\n",
    "longitudinal_ehr['gender'] = pd.factorize(longitudinal_ehr['gender'])[0]\n",
    "\n",
    "## drop rows that don't make sense\n",
    "#keep_rows = (data['time_to_departure'] < 0) | (data['time_to_departure'].isna())\n",
    "longitudinal_ehr = longitudinal_ehr[(longitudinal_ehr['time_to_departure'] >= 0) | (longitudinal_ehr['time_to_departure'].isna())].copy()"
   ]
  },
  {
   "cell_type": "code",
   "execution_count": null,
   "metadata": {},
   "outputs": [],
   "source": [
    "def custom_round(x, base=1):\n",
    "    if pd.isna(x):\n",
    "        return x\n",
    "    return int(base * round(float(x)/base))"
   ]
  },
  {
   "cell_type": "code",
   "execution_count": null,
   "metadata": {},
   "outputs": [],
   "source": [
    "longitudinal_ehr['tenure']"
   ]
  },
  {
   "cell_type": "code",
   "execution_count": null,
   "metadata": {},
   "outputs": [],
   "source": [
    "longitudinal_ehr['tenure'] = longitudinal_ehr['tenure'].apply(lambda x: custom_round(x, 5))"
   ]
  },
  {
   "cell_type": "code",
   "execution_count": null,
   "metadata": {},
   "outputs": [],
   "source": [
    "longitudinal_ehr['tenure']"
   ]
  },
  {
   "cell_type": "code",
   "execution_count": null,
   "metadata": {},
   "outputs": [],
   "source": [
    "print(f'num obs without quit: {longitudinal_ehr.time_to_departure.isna().sum()}')\n",
    "print(f'num obs with quit: {longitudinal_ehr.departure_in_interval.sum()}')"
   ]
  },
  {
   "cell_type": "code",
   "execution_count": null,
   "metadata": {},
   "outputs": [],
   "source": [
    "# how many physicians, quit and did not\n",
    "print(f\"num physicians: {len(longitudinal_ehr['physician_id'].unique())}\")\n",
    "print(f\"num retained: {sum(longitudinal_ehr.groupby('physician_id')['term_date'].first().isna())}\")\n",
    "print(f\"num departed: {sum(~longitudinal_ehr.groupby('physician_id')['term_date'].first().isna())}\")"
   ]
  },
  {
   "cell_type": "code",
   "execution_count": null,
   "metadata": {},
   "outputs": [],
   "source": [
    "# obs per physician\n",
    "longitudinal_ehr.groupby('physician_id')['physician_id'].count().value_counts().sort_index(ascending = False).head(3)"
   ]
  },
  {
   "cell_type": "code",
   "execution_count": null,
   "metadata": {},
   "outputs": [],
   "source": [
    "tenure = (longitudinal_ehr.groupby('physician_id')['reportingperiodstartdate'].first() - longitudinal_ehr.groupby('physician_id')['hire_date'].first())\n",
    "tenure = np.round(tenure.dt.days/365)\n",
    "tenure.value_counts().head(3) # negative tenures at start?"
   ]
  },
  {
   "cell_type": "code",
   "execution_count": null,
   "metadata": {},
   "outputs": [],
   "source": [
    "# drop columns that aren't needed\n",
    "cols_to_drop = [\n",
    "                    #'physician_id',\n",
    "                    #'reportingperiodstartdate',\n",
    "                    #'tenure',\n",
    "                    'study_day',\n",
    "                    'reportingperiodenddate',\n",
    "                    'term_date',\n",
    "                    #'time_to_departure',\n",
    "                    'hire_date',\n",
    "                    #'age_range_as_of_12_31_19',\n",
    "                    'date_yyyymm'\n",
    "                ]\n",
    "physician_id, unique_physician_ids = pd.factorize(longitudinal_ehr.physician_id)\n",
    "longitudinal_ehr['physician_id'] = physician_id\n",
    "longitudinal_ehr = longitudinal_ehr.drop(cols_to_drop, axis = 1)"
   ]
  },
  {
   "cell_type": "code",
   "execution_count": null,
   "metadata": {},
   "outputs": [],
   "source": [
    "categorical_cols = ['provtype','physician_id', 'specialty', 'age_group', 'gender', 'departure_in_interval', 'calendar_month', 'covid_wave']\n",
    "continuous_cols = [  'patient_volume',\n",
    "                     'physician_demand',\n",
    "                     'physician_work_intensity',\n",
    "                     'panel_cnt',\n",
    "                     'risk_avg',\n",
    "                     'teamwork_on_inbox_value',\n",
    "                     'note_quality_manual_value',\n",
    "                     'note_quality_contribution_value',\n",
    "                     'number_of_rx_errors',\n",
    "                     'ehr_time_8',\n",
    "                     'wow_time_8',\n",
    "                     'note_time_8',\n",
    "                     'order_time_8',\n",
    "                     'ib_time_8',\n",
    "                     'review_time_8',\n",
    "                     'tenure',# 'study_day'\n",
    "                      ]\n",
    "date_cols = ['reportingperiodstartdate']#like the age or similar"
   ]
  },
  {
   "cell_type": "code",
   "execution_count": null,
   "metadata": {},
   "outputs": [],
   "source": [
    "longitudinal_ehr = longitudinal_ehr[categorical_cols + continuous_cols + date_cols]"
   ]
  },
  {
   "cell_type": "code",
   "execution_count": null,
   "metadata": {},
   "outputs": [],
   "source": [
    "sp_map = pd.read_csv('./references/specialty_dictionary.csv',index_col='old').to_dict()['new']\n",
    "# sc = longitudinal_ehr.specialty.value_counts()\n",
    "specialty_mapped = longitudinal_ehr.specialty.copy()\n",
    "specialty_mapped2 = specialty_mapped.map(sp_map)\n",
    "sp_map_comp = pd.DataFrame({'old': specialty_mapped,'new': specialty_mapped2})"
   ]
  },
  {
   "cell_type": "code",
   "execution_count": null,
   "metadata": {},
   "outputs": [],
   "source": [
    "## one-hot encode categorical cols\n",
    "encode_cols = ['provtype', 'specialty']\n",
    "longitudinal_ehr = pd.get_dummies(longitudinal_ehr, columns = encode_cols)"
   ]
  },
  {
   "cell_type": "code",
   "execution_count": null,
   "metadata": {},
   "outputs": [],
   "source": [
    "def ols_window(df, y_col, x_col = 'index'):\n",
    "# compute least squares slope from y ~ x from RollingGroupby object as produced by .rolling()\n",
    "# treats multiple y_col as \n",
    "# returns nan if < 2 data points\n",
    "# by default treats index as the x variable\n",
    "    slopes = np.full((1,len(y_col)),np.nan)\n",
    "    if len(df) >= 2:\n",
    "\n",
    "        # get the X\n",
    "        if x_col == 'index':\n",
    "            X = df.index.to_numpy()\n",
    "            X = X.reshape(X.shape[0],-1) # needs to be 2d col vector\n",
    "        else:\n",
    "            X = df[[x_col]]              # needs to be 2d col vector\n",
    "        \n",
    "        \n",
    "        \n",
    "        for idx,cur_col in enumerate(y_col):\n",
    "            y = df[cur_col]                    # ok as true 1d vector\n",
    "            if not np.any(np.isnan(y)):\n",
    "                lm = LinearRegression().fit(X, y)\n",
    "                slope = lm.coef_[0]\n",
    "                slopes[0,idx] = slope\n",
    "\n",
    "    return(slopes)   \n",
    "    #return(pd.DataFrame(slopes,columns=y_col))\n",
    "\n",
    "def ols_rolling(df, window, group_col, y_col, x_col):\n",
    "    \n",
    "    # compute rolling slope on columns of pd data frame\n",
    "    # this has not been optimized for speed or general use outside of our workflow\n",
    "\n",
    "    if x_col != 'index':\n",
    "        keep_cols = y_col+[x_col]\n",
    "    else:\n",
    "        keep_cols = y_col\n",
    "\n",
    "    roll_iter = df.groupby(group_col)[keep_cols].rolling(window,on=x_col)\n",
    "\n",
    "    df_rolling = pd.DataFrame(np.full((len(df),len(y_col)),np.nan),columns = y_col)\n",
    "\n",
    "    for idx,x in enumerate(roll_iter):\n",
    "        slope = ols_window(x, x_col = 'index', y_col = y_col)\n",
    "        df_rolling.loc[idx] = slope\n",
    "    \n",
    "    return(df_rolling)\n",
    "\n"
   ]
  },
  {
   "cell_type": "code",
   "execution_count": null,
   "metadata": {
    "scrolled": true
   },
   "outputs": [],
   "source": [
    "# Make the rolling average columns for the time dependent covariates\n",
    "time_dep_cov_cols = ['patient_volume',\n",
    "                     'physician_demand',\n",
    "                     'physician_work_intensity',\n",
    "                     'panel_cnt',\n",
    "                     'risk_avg',\n",
    "                     'teamwork_on_inbox_value',\n",
    "                     'note_quality_manual_value',\n",
    "                     'note_quality_contribution_value',\n",
    "                     'number_of_rx_errors',\n",
    "                     'ehr_time_8',\n",
    "                     'wow_time_8',\n",
    "                     'note_time_8',\n",
    "                     'order_time_8',\n",
    "                     'ib_time_8',\n",
    "                     'review_time_8']\n",
    "n_steps = 2\n",
    "def roll_diff(x):\n",
    "    return x.iloc[-1] - x.iloc[0]\n",
    "# exponential weighted mean\n",
    "EWA_indicators = longitudinal_ehr.groupby('physician_id')[time_dep_cov_cols + ['reportingperiodstartdate']].ewm(halflife='64D',times='reportingperiodstartdate').mean()\n",
    "EWA_indicators = EWA_indicators.add_prefix('EWA_avg_')\n",
    "\n",
    "orig_index = longitudinal_ehr.index\n",
    "orig_cols = set(longitudinal_ehr.columns)\n",
    "# longitudinal_ehr = longitudinal_ehr.merge(rolling_indicators, how='inner', left_on= orig_index,right_on = rolling_indicators.index.get_level_values(1)).drop(['key_0', 'r_avg_reportingperiodstartdate'], axis=1).set_index(orig_index)\n",
    "longitudinal_ehr = longitudinal_ehr.merge(EWA_indicators, how='inner', left_on= orig_index,right_on = EWA_indicators.index.get_level_values(1)).drop(['key_0',], axis=1).set_index(orig_index)\n",
    "# longitudinal_ehr = longitudinal_ehr.merge(rolling_diff, how='inner', left_on= orig_index,right_on = rolling_diff.index.get_level_values(1)).drop(['key_0', 'rolling_diff_reportingperiodstartdate'], axis=1).set_index(orig_index)\n"
   ]
  },
  {
   "cell_type": "code",
   "execution_count": null,
   "metadata": {},
   "outputs": [],
   "source": [
    "assert all(longitudinal_ehr.groupby(['physician_id'])['reportingperiodstartdate'].is_monotonic_increasing), 'Not monotonic increasing'"
   ]
  },
  {
   "cell_type": "code",
   "execution_count": null,
   "metadata": {},
   "outputs": [],
   "source": [
    "rolling_slope = ols_rolling(\n",
    "    longitudinal_ehr,\n",
    "    group_col = 'physician_id',\n",
    "    y_col = time_dep_cov_cols,\n",
    "    x_col = 'reportingperiodstartdate',\n",
    "    window='64D'\n",
    ")\n",
    "rolling_slope = rolling_slope.add_prefix('r_slope_')"
   ]
  },
  {
   "cell_type": "code",
   "execution_count": null,
   "metadata": {},
   "outputs": [],
   "source": [
    "longitudinal_ehr = pd.concat([longitudinal_ehr,rolling_slope.set_index(longitudinal_ehr.index)],axis=1) # does same job as merge statement\n",
    "continuous_cols += list(set(longitudinal_ehr.columns) - orig_cols)"
   ]
  },
  {
   "cell_type": "code",
   "execution_count": null,
   "metadata": {
    "scrolled": true,
    "tags": []
   },
   "outputs": [],
   "source": [
    "longitudinal_ehr.columns"
   ]
  },
  {
   "cell_type": "code",
   "execution_count": null,
   "metadata": {},
   "outputs": [],
   "source": [
    "#pd.to_pickle(longitudinal_ehr,\"./data/processed/turbo_7_18_22_deid_processed_3.pkl\")"
   ]
  },
  {
   "cell_type": "code",
   "execution_count": null,
   "metadata": {},
   "outputs": [],
   "source": [
    "#pd.to_pickle(longitudinal_ehr,\"./data/processed/turbo_7_18_22_deid_processed_3_NO_TENURE_STUDYDAY.pkl\")"
   ]
  },
  {
   "cell_type": "code",
   "execution_count": null,
   "metadata": {},
   "outputs": [],
   "source": [
    "longitudinal_ehr.groupby('physician_id').last()['departure_in_interval'].value_counts()"
   ]
  },
  {
   "cell_type": "code",
   "execution_count": null,
   "metadata": {},
   "outputs": [],
   "source": [
    "counter = 0\n",
    "for x in longitudinal_ehr['physician_id'].unique():\n",
    "    if sum(longitudinal_ehr[longitudinal_ehr['physician_id'] == x]['departure_in_interval']) > 0:\n",
    "        counter += 1\n",
    "counter"
   ]
  },
  {
   "cell_type": "code",
   "execution_count": null,
   "metadata": {},
   "outputs": [],
   "source": [
    "longitudinal_ehr.columns"
   ]
  },
  {
   "cell_type": "code",
   "execution_count": null,
   "metadata": {},
   "outputs": [],
   "source": [
    "pd.to_pickle(longitudinal_ehr,\"./data/processed/turbo_7_29_22_deid_processed_3_ROUND_5y_TENURE_NO_STUDYDAY.pkl\")"
   ]
  },
  {
   "cell_type": "code",
   "execution_count": null,
   "metadata": {},
   "outputs": [],
   "source": [
    "sum(longitudinal_ehr['departure_in_interval'] == True)"
   ]
  },
  {
   "cell_type": "code",
   "execution_count": null,
   "metadata": {},
   "outputs": [],
   "source": [
    "a = ['age_group', 'gender', 'calendar_month', 'covid_wave', 'patient_volume',\n",
    "       'physician_demand', 'physician_work_intensity', 'panel_cnt', 'risk_avg',\n",
    "       'teamwork_on_inbox_value', 'note_quality_manual_value',\n",
    "       'note_quality_contribution_value', 'number_of_rx_errors', 'ehr_time_8',\n",
    "       'wow_time_8', 'note_time_8', 'order_time_8', 'ib_time_8',\n",
    "       'review_time_8', 'tenure', 'specialty_Allergy',\n",
    "       'EWA_avg_patient_volume', 'EWA_avg_physician_demand',\n",
    "       'EWA_avg_physician_work_intensity', 'EWA_avg_panel_cnt',\n",
    "       'EWA_avg_risk_avg', 'EWA_avg_teamwork_on_inbox_value',\n",
    "       'EWA_avg_note_quality_manual_value',\n",
    "       'EWA_avg_note_quality_contribution_value',\n",
    "       'EWA_avg_number_of_rx_errors', 'EWA_avg_ehr_time_8',\n",
    "       'EWA_avg_wow_time_8', 'EWA_avg_note_time_8', 'EWA_avg_order_time_8',\n",
    "       'EWA_avg_ib_time_8', 'EWA_avg_review_time_8', 'r_slope_patient_volume',\n",
    "       'r_slope_physician_demand', 'r_slope_physician_work_intensity',\n",
    "       'r_slope_panel_cnt', 'r_slope_risk_avg',\n",
    "       'r_slope_teamwork_on_inbox_value', 'r_slope_note_quality_manual_value',\n",
    "       'r_slope_note_quality_contribution_value',\n",
    "       'r_slope_number_of_rx_errors', 'r_slope_ehr_time_8',\n",
    "       'r_slope_wow_time_8', 'r_slope_note_time_8', 'r_slope_order_time_8',\n",
    "       'r_slope_ib_time_8', 'r_slope_review_time_8']"
   ]
  },
  {
   "cell_type": "code",
   "execution_count": null,
   "metadata": {},
   "outputs": [],
   "source": [
    "len(a)"
   ]
  },
  {
   "cell_type": "code",
   "execution_count": null,
   "metadata": {},
   "outputs": [],
   "source": []
  }
 ],
 "metadata": {
  "interpreter": {
   "hash": "aebeff7af16a3e74dfb8d2ca55a8624561b514dde17729b916609a121bafd8b7"
  },
  "kernelspec": {
   "display_name": "Python 3 (ipykernel)",
   "language": "python",
   "name": "python3"
  },
  "language_info": {
   "codemirror_mode": {
    "name": "ipython",
    "version": 3
   },
   "file_extension": ".py",
   "mimetype": "text/x-python",
   "name": "python",
   "nbconvert_exporter": "python",
   "pygments_lexer": "ipython3",
   "version": "3.8.13"
  }
 },
 "nbformat": 4,
 "nbformat_minor": 4
}
