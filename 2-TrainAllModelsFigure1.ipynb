{
 "cells": [
  {
   "cell_type": "markdown",
   "metadata": {},
   "source": [
    "# Retention study analysis"
   ]
  },
  {
   "cell_type": "markdown",
   "metadata": {},
   "source": [
    "## Data set preparation and XGboost Fit\n",
    "\n",
    "Data set is built with retention_study_data_set_gen.ipynb\n",
    "\n",
    "Create train/validation/test split on data. Right now doing single validation set, but could consider expanding to k-fold cross validation to tune one of the hyperparameters like scale positive weight or the prediction lead time. If we do this with lead time, this will require multiple versions of the data set to be built.\n",
    "\n"
   ]
  },
  {
   "cell_type": "markdown",
   "metadata": {},
   "source": [
    "### Variable nomenclature\n",
    "\n",
    "summary where * is train/test/val, N = number of month observations, F = number of features, P = number of physicians\n",
    "| Variable | Description|\n",
    "|----------|-------------|\n",
    "| X_*       | (N x F) DataFrame of features|\n",
    "| y_*       |(N x 1) Series of binary depart within interval|\n",
    "| X_*_ids   |(N x 1) Series of physician ids for each month|\n",
    "| *_ids     |(P x 2) Dataframe with [0,:] list of physician ids, [1,:] binary depart within study for physician |\n",
    "| y_*_pred  |(N x1) series of binary predicitons |\n",
    "| y_*_pred_prob | (Nx1) series of raw xgboost output |"
   ]
  },
  {
   "cell_type": "markdown",
   "metadata": {},
   "source": [
    "## Import Data"
   ]
  },
  {
   "cell_type": "code",
   "execution_count": 1,
   "metadata": {},
   "outputs": [
    {
     "name": "stderr",
     "output_type": "stream",
     "text": [
      "/home/kevin/.local/lib/python3.10/site-packages/tqdm/auto.py:22: TqdmWarning: IProgress not found. Please update jupyter and ipywidgets. See https://ipywidgets.readthedocs.io/en/stable/user_install.html\n",
      "  from .autonotebook import tqdm as notebook_tqdm\n"
     ]
    }
   ],
   "source": [
    "import datetime\n",
    "import pandas as pd\n",
    "import numpy as np\n",
    "from sklearn.model_selection import train_test_split, StratifiedShuffleSplit\n",
    "from matplotlib import pyplot as plt\n",
    "import shap\n",
    "from copy import deepcopy\n",
    "import xgboost as xgb\n",
    "from sklearn.metrics import balanced_accuracy_score, roc_auc_score, make_scorer, confusion_matrix, plot_confusion_matrix\n",
    "from sklearn.metrics import classification_report, auc, roc_curve, precision_recall_curve, f1_score\n",
    "from sklearn.base import clone as skClone\n",
    "import matplotlib.pyplot as plt\n",
    "import plotly.express as px\n",
    "\n",
    "SEED = 0\n",
    "np.random.seed(SEED)\n",
    "pd.set_option('display.max_columns', None)\n",
    "PATH = './data/processed/turbo_7_29_22_deid_processed_3_ROUND_5y_TENURE_NO_STUDYDAY.pkl'"
   ]
  },
  {
   "cell_type": "code",
   "execution_count": 2,
   "metadata": {},
   "outputs": [],
   "source": [
    "def load_data(path):\n",
    "    categorical_cols = [\n",
    "    'physician_id',\n",
    "    'age_group',\n",
    "    'gender',\n",
    "    'departure_in_interval',\n",
    "    'calendar_month',\n",
    "    'covid_wave'\n",
    "    ]\n",
    "    ehr_data = pd.read_pickle(path)\n",
    "    ehr_data = ehr_data.drop(['provtype_Physician','reportingperiodstartdate'],axis=1)\n",
    "    mask = (ehr_data['specialty_Family Medicine']==0) & (ehr_data['specialty_Internal Medicine']==0) & (ehr_data['specialty_Pediatrics']==0)\n",
    "    # Apply mask to the data so we can NaN the panel count and panel complexity on specialty that is not\n",
    "    # specialty_Family, specialty_Internal, specialty_Pediatrics\n",
    "    ehr_data.loc[mask, 'panel_cnt'] = np.nan\n",
    "    ehr_data.loc[mask, 'risk_avg'] = np.nan\n",
    "    all_ids = pd.DataFrame({\n",
    "        'id':  ehr_data['physician_id'].unique(),\n",
    "        'depart': ehr_data.groupby('physician_id')['departure_in_interval'].any().tolist()\n",
    "    })\n",
    "    ID_train, ID_test = train_test_split(ehr_data['physician_id'].unique(),\n",
    "                                                test_size=0.2, random_state=SEED)\n",
    "    assert len(set(ID_train).intersection(set(ID_test))) == 0, 'Bad split'\n",
    "    X_train = ehr_data[ehr_data['physician_id'].isin(ID_train)].drop(['departure_in_interval', 'physician_id'], axis=1)\n",
    "    X_test = ehr_data[ehr_data['physician_id'].isin(ID_test)].drop(['departure_in_interval', 'physician_id'], axis=1)\n",
    "    y_train = ehr_data[ehr_data['physician_id'].isin(ID_train)]['departure_in_interval']\n",
    "    y_test = ehr_data[ehr_data['physician_id'].isin(ID_test)]['departure_in_interval']\n",
    "    X_save = ehr_data\n",
    "    y_save = ehr_data.pop('departure_in_interval')\n",
    "    X_save_ids = ehr_data.pop('physician_id')\n",
    "    save_ids = all_ids\n",
    "    \n",
    "    return X_train, X_test, y_train, y_test, X_save, y_save, X_save_ids, save_ids"
   ]
  },
  {
   "cell_type": "code",
   "execution_count": null,
   "metadata": {},
   "outputs": [],
   "source": [
    "X_train, X_test, y_train, y_test, X_save, y_save, X_save_ids, save_ids = load_data(PATH)"
   ]
  },
  {
   "cell_type": "markdown",
   "metadata": {},
   "source": [
    "### Model Performance Evaluation Script"
   ]
  },
  {
   "cell_type": "code",
   "execution_count": 3,
   "metadata": {},
   "outputs": [],
   "source": [
    "import matplotlib.pyplot as plt\n",
    "import numpy as np\n",
    "plt.rcParams[\"figure.figsize\"] = (10,7)\n",
    "def model_perf(classifier, X, y,crosstab=True, stats = True, roc_plot = True, optimal_thresh=True, custom_thresh = None, conf_interval=False):\n",
    "    # simple helper to easily show some key features of performace\n",
    "    \n",
    "    y_pred = classifier.predict(X)\n",
    "    probs = classifier.predict_proba(X)\n",
    "    scores = probs[:,1]\n",
    "    fpr, tpr, threshold = roc_curve(y, scores)\n",
    "    roc_auc = auc(fpr, tpr)\n",
    "\n",
    "    if crosstab:\n",
    "        display(pd.crosstab(y,y_pred))\n",
    "    \n",
    "    if stats:\n",
    "        print(classification_report(y, y_pred))\n",
    "        print(get_stats(y, y_pred))\n",
    "\n",
    "    # method I: plt\n",
    "    if roc_plot:\n",
    "        plt.title('Main Results ROC Curve and AUC')\n",
    "        plt.plot(fpr, tpr, 'b', label = 'AUC = %0.2f' % roc_auc)\n",
    "        #plt.legend(loc = 'lower right')\n",
    "        plt.plot([0, 1], [0, 1],'r--')\n",
    "        plt.xlim([0, 1])\n",
    "        plt.ylim([0, 1])\n",
    "        plt.ylabel('True Positive Rate')\n",
    "        plt.xlabel('False Positive Rate')\n",
    "        #plt.show()\n",
    "    if optimal_thresh:\n",
    "        opt_cutoff, ix = cutoff_youdens_j(fpr, tpr, threshold)#Find_Optimal_Cutoff(y, scores)[0]\n",
    "        print('Optimal Threshold cutoff')\n",
    "        #print(opt_cutoff)\n",
    "        #ix = gmean(fpr, tpr, threshold)\n",
    "        plt.plot(fpr[ix], tpr[ix], marker='o', color='black', label='Best Threshold (Youdens J Stat) =%f' % (opt_cutoff))\n",
    "        #plt.text(2,4,'This text starts at point (2,4)')\n",
    "        plt.vlines(fpr[ix], 0, 1, linestyles='dashed', color='black')\n",
    "        print(classification_report(y, scores > opt_cutoff))\n",
    "        display(pd.crosstab(y,scores > opt_cutoff))\n",
    "        print(get_stats(y, scores > opt_cutoff))\n",
    "    if custom_thresh is not None:\n",
    "        for ct in custom_thresh:\n",
    "            print('Custom Thresh')\n",
    "            print(ct)\n",
    "            print(classification_report(y, scores > ct))\n",
    "            display(pd.crosstab(y,scores > ct))\n",
    "            print(get_stats(y, scores > ct))\n",
    "    if conf_interval:\n",
    "        bootstrap_stats = bootstrap_auc(classifier, X_train, y_train, X_test, y_test, nsamples=200)\n",
    "        roc_aucs = []\n",
    "        roc_aucs = []\n",
    "        pr_aucs = []\n",
    "        for i in range(len(bootstrap_stats)):\n",
    "            roc_aucs.append(bootstrap_stats[i]['roc_auc'])\n",
    "            pr_aucs.append(bootstrap_stats[i]['pr_auc'])\n",
    "        roc_CI = np.percentile(roc_aucs, (2.5, 97.5))\n",
    "        pr_CI = np.percentile(pr_aucs, (2.5, 97.5))\n",
    "        plt.fill_between(fpr, (tpr-(roc_CI[1]- roc_CI[0])), (tpr+(roc_CI[1]- roc_CI[0])), alpha=0.2)\n",
    "        L=plt.legend()\n",
    "        L.get_texts()[0].set_text(f'AUC = {roc_auc} CI=[{roc_CI[0]} - {roc_CI[1]}]')\n",
    "    plt.legend(loc = 'lower right')\n",
    "    plt.show()\n",
    "def cutoff_youdens_j(fpr,tpr,thresholds):\n",
    "    j_scores = tpr-fpr\n",
    "    ix = np.argmax(j_scores)\n",
    "    best_thresh = thresholds[ix]\n",
    "    print('Best Threshold (Youdens J Stat)=%f' % (best_thresh))\n",
    "    j_ordered = sorted(zip(j_scores,thresholds))\n",
    "    return j_ordered[-1][1], ix\n",
    "\n",
    "def gmean(fpr,tpr,thresholds):\n",
    "    # calculate the g-mean for each threshold\n",
    "    gmeans = np.sqrt(tpr * (1-fpr))\n",
    "    # locate the index of the largest g-mean\n",
    "    ix = np.argmax(gmeans)\n",
    "    print('Best GMeans Threshold=%f, G-Mean=%.3f' % (thresholds[ix], gmeans[ix]))\n",
    "    return ix\n",
    "\n",
    "def perf_measure(y_actual, y_hat):\n",
    "    TP = 0\n",
    "    FP = 0\n",
    "    TN = 0\n",
    "    FN = 0\n",
    "    for i in range(len(y_hat)): \n",
    "        if y_actual[i]==y_hat[i]==1:\n",
    "            TP += 1\n",
    "        if y_hat[i]==1 and y_actual[i]!=y_hat[i]:\n",
    "            FP += 1\n",
    "        if y_actual[i]==y_hat[i]==0:\n",
    "            TN += 1\n",
    "        if y_hat[i]==0 and y_actual[i]!=y_hat[i]:\n",
    "            FN += 1\n",
    "    return(TP, FP, TN, FN)\n",
    "def get_stats(true_value, classifier_output):\n",
    "    # we need sensitivity, specificity, npv, ppv for all 3 thresholds\n",
    "    # Note that in binary classification, recall of the positive class \n",
    "    # is also known as “sensitivity”; recall of the negative class is “specificity”.\n",
    "    TN, FP, FN, TP = confusion_matrix(true_value, classifier_output).ravel() #perf_measure(true_value, classifier_output)# confusion_matrix(true_value, classifier_output).ravel()\n",
    "    ppv = TP/(TP+FP)\n",
    "    npv = TN/(TN+FN)\n",
    "    specificity = TN/(TN+FP)\n",
    "    sensitivity = TP/(TP+FN)\n",
    "    return {'ppv': ppv, 'npv': npv, 'specificity': specificity, 'sensitivity': sensitivity}\n",
    "    \n",
    "# configure bootstrap\n",
    "def bootstrap_auc(fit_clf, X_train, y_train, X_test, y_test, nsamples=1000):\n",
    "    X_train = _numpy_to_df(X_train)\n",
    "    y_train = _numpy_to_df(y_train)\n",
    "    X_test = _numpy_to_df(X_test)\n",
    "    #y_test = _numpy_to_df(y_test)\n",
    "    statistics = {}\n",
    "    for b in range(nsamples):\n",
    "        clf = skClone(fit_clf)# gives us a unfit clone of the classifier\n",
    "        idx = np.random.randint(X_train.shape[0], size=X_train.shape[0])\n",
    "        clf.fit(X_train.iloc[idx], y_train.iloc[idx].values.ravel())# strange that we needed to ravel the values after? something to do with pandas and numpy\n",
    "        pred = clf.predict_proba(X_test)[:, 1]\n",
    "        #roc_auc = roc_auc_score(y_test.ravel(), pred.ravel())\n",
    "        fpr, tpr, threshold = roc_curve(y_test.ravel(), pred.ravel())\n",
    "        roc_auc = auc(fpr, tpr)\n",
    "        precision, recall, thresholds = precision_recall_curve(y_test.ravel(), pred.ravel())\n",
    "        pr_auc = auc(recall, precision)\n",
    "        statistics[b] = {'roc_auc': roc_auc, 'fpr': fpr, 'tpr': tpr, 'precision': precision, 'recall': recall, 'pr_auc':pr_auc}\n",
    "        \n",
    "    return statistics#np.percentile(auc_values, (2.5, 97.5))\n",
    "def _numpy_to_df(df):\n",
    "    if type(df) == np.ndarray:\n",
    "        return pd.DataFrame(deepcopy(df))"
   ]
  },
  {
   "cell_type": "markdown",
   "metadata": {},
   "source": [
    "# Train models"
   ]
  },
  {
   "cell_type": "code",
   "execution_count": 4,
   "metadata": {},
   "outputs": [],
   "source": [
    "# dummy Data:\n",
    "from sklearn.datasets import make_classification\n",
    "def get_dummy_data(random_state = 0):\n",
    "    X, y = make_classification(n_samples=5000, n_features=5, random_state=random_state, class_sep=0.5)\n",
    "    X_train, X_test, y_train, y_test = train_test_split(X, y)\n",
    "    return X_train, X_test, y_train, y_test"
   ]
  },
  {
   "cell_type": "code",
   "execution_count": 5,
   "metadata": {},
   "outputs": [],
   "source": [
    "from sklearn.metrics import classification_report\n",
    "from sklearn.metrics import confusion_matrix\n",
    "# import baseline models:\n",
    "from sklearn.linear_model import LogisticRegression\n",
    "from sklearn.naive_bayes import GaussianNB\n",
    "from sklearn import tree\n",
    "from sklearn.ensemble import RandomForestClassifier\n",
    "def trainBaselines(model, X_train, X_test, y_train, y_test):\n",
    "    model.fit(X_train, y_train)\n",
    "    model_pred = model.predict(X_test)\n",
    "    model_prob = model.predict_proba(X_test)\n",
    "    model_perf(model,X_test,y_test,stats=True,roc_plot=True, optimal_thresh=True, crosstab=True, conf_interval=True)"
   ]
  },
  {
   "cell_type": "markdown",
   "metadata": {},
   "source": [
    "# Baselines"
   ]
  },
  {
   "cell_type": "markdown",
   "metadata": {},
   "source": [
    "## Baseline -- Logistic Regression"
   ]
  },
  {
   "cell_type": "code",
   "execution_count": 6,
   "metadata": {
    "scrolled": true,
    "tags": []
   },
   "outputs": [
    {
     "data": {
      "text/html": [
       "<div>\n",
       "<style scoped>\n",
       "    .dataframe tbody tr th:only-of-type {\n",
       "        vertical-align: middle;\n",
       "    }\n",
       "\n",
       "    .dataframe tbody tr th {\n",
       "        vertical-align: top;\n",
       "    }\n",
       "\n",
       "    .dataframe thead th {\n",
       "        text-align: right;\n",
       "    }\n",
       "</style>\n",
       "<table border=\"1\" class=\"dataframe\">\n",
       "  <thead>\n",
       "    <tr style=\"text-align: right;\">\n",
       "      <th>col_0</th>\n",
       "      <th>0</th>\n",
       "      <th>1</th>\n",
       "    </tr>\n",
       "    <tr>\n",
       "      <th>row_0</th>\n",
       "      <th></th>\n",
       "      <th></th>\n",
       "    </tr>\n",
       "  </thead>\n",
       "  <tbody>\n",
       "    <tr>\n",
       "      <th>0</th>\n",
       "      <td>555</td>\n",
       "      <td>94</td>\n",
       "    </tr>\n",
       "    <tr>\n",
       "      <th>1</th>\n",
       "      <td>81</td>\n",
       "      <td>520</td>\n",
       "    </tr>\n",
       "  </tbody>\n",
       "</table>\n",
       "</div>"
      ],
      "text/plain": [
       "col_0    0    1\n",
       "row_0          \n",
       "0      555   94\n",
       "1       81  520"
      ]
     },
     "metadata": {},
     "output_type": "display_data"
    },
    {
     "name": "stdout",
     "output_type": "stream",
     "text": [
      "              precision    recall  f1-score   support\n",
      "\n",
      "           0       0.87      0.86      0.86       649\n",
      "           1       0.85      0.87      0.86       601\n",
      "\n",
      "    accuracy                           0.86      1250\n",
      "   macro avg       0.86      0.86      0.86      1250\n",
      "weighted avg       0.86      0.86      0.86      1250\n",
      "\n",
      "{'ppv': 0.8469055374592834, 'npv': 0.8726415094339622, 'specificity': 0.8551617873651772, 'sensitivity': 0.8652246256239601}\n",
      "Best Threshold (Youdens J Stat)=0.622506\n",
      "Optimal Threshold cutoff\n",
      "              precision    recall  f1-score   support\n",
      "\n",
      "           0       0.85      0.92      0.89       649\n",
      "           1       0.91      0.83      0.87       601\n",
      "\n",
      "    accuracy                           0.88      1250\n",
      "   macro avg       0.88      0.88      0.88      1250\n",
      "weighted avg       0.88      0.88      0.88      1250\n",
      "\n"
     ]
    },
    {
     "data": {
      "text/html": [
       "<div>\n",
       "<style scoped>\n",
       "    .dataframe tbody tr th:only-of-type {\n",
       "        vertical-align: middle;\n",
       "    }\n",
       "\n",
       "    .dataframe tbody tr th {\n",
       "        vertical-align: top;\n",
       "    }\n",
       "\n",
       "    .dataframe thead th {\n",
       "        text-align: right;\n",
       "    }\n",
       "</style>\n",
       "<table border=\"1\" class=\"dataframe\">\n",
       "  <thead>\n",
       "    <tr style=\"text-align: right;\">\n",
       "      <th>col_0</th>\n",
       "      <th>False</th>\n",
       "      <th>True</th>\n",
       "    </tr>\n",
       "    <tr>\n",
       "      <th>row_0</th>\n",
       "      <th></th>\n",
       "      <th></th>\n",
       "    </tr>\n",
       "  </thead>\n",
       "  <tbody>\n",
       "    <tr>\n",
       "      <th>0</th>\n",
       "      <td>598</td>\n",
       "      <td>51</td>\n",
       "    </tr>\n",
       "    <tr>\n",
       "      <th>1</th>\n",
       "      <td>103</td>\n",
       "      <td>498</td>\n",
       "    </tr>\n",
       "  </tbody>\n",
       "</table>\n",
       "</div>"
      ],
      "text/plain": [
       "col_0  False  True\n",
       "row_0             \n",
       "0        598    51\n",
       "1        103   498"
      ]
     },
     "metadata": {},
     "output_type": "display_data"
    },
    {
     "name": "stdout",
     "output_type": "stream",
     "text": [
      "{'ppv': 0.907103825136612, 'npv': 0.8530670470756063, 'specificity': 0.9214175654853621, 'sensitivity': 0.8286189683860233}\n"
     ]
    },
    {
     "data": {
      "image/png": "[encoded data removed]",
      "text/plain": [
       "<Figure size 432x288 with 1 Axes>"
      ]
     },
     "metadata": {
      "needs_background": "light"
     },
     "output_type": "display_data"
    }
   ],
   "source": [
    "LR = LogisticRegression(random_state=SEED)\n",
    "X_train, X_test, y_train, y_test = get_dummy_data()\n",
    "trainBaselines(LR, X_train, X_test, y_train, y_test)"
   ]
  },
  {
   "cell_type": "markdown",
   "metadata": {},
   "source": [
    "## Baseline -- Gaussian Naive Bayes"
   ]
  },
  {
   "cell_type": "code",
   "execution_count": 7,
   "metadata": {
    "scrolled": true,
    "tags": []
   },
   "outputs": [
    {
     "data": {
      "text/html": [
       "<div>\n",
       "<style scoped>\n",
       "    .dataframe tbody tr th:only-of-type {\n",
       "        vertical-align: middle;\n",
       "    }\n",
       "\n",
       "    .dataframe tbody tr th {\n",
       "        vertical-align: top;\n",
       "    }\n",
       "\n",
       "    .dataframe thead th {\n",
       "        text-align: right;\n",
       "    }\n",
       "</style>\n",
       "<table border=\"1\" class=\"dataframe\">\n",
       "  <thead>\n",
       "    <tr style=\"text-align: right;\">\n",
       "      <th>col_0</th>\n",
       "      <th>0</th>\n",
       "      <th>1</th>\n",
       "    </tr>\n",
       "    <tr>\n",
       "      <th>row_0</th>\n",
       "      <th></th>\n",
       "      <th></th>\n",
       "    </tr>\n",
       "  </thead>\n",
       "  <tbody>\n",
       "    <tr>\n",
       "      <th>0</th>\n",
       "      <td>528</td>\n",
       "      <td>85</td>\n",
       "    </tr>\n",
       "    <tr>\n",
       "      <th>1</th>\n",
       "      <td>75</td>\n",
       "      <td>562</td>\n",
       "    </tr>\n",
       "  </tbody>\n",
       "</table>\n",
       "</div>"
      ],
      "text/plain": [
       "col_0    0    1\n",
       "row_0          \n",
       "0      528   85\n",
       "1       75  562"
      ]
     },
     "metadata": {},
     "output_type": "display_data"
    },
    {
     "name": "stdout",
     "output_type": "stream",
     "text": [
      "              precision    recall  f1-score   support\n",
      "\n",
      "           0       0.88      0.86      0.87       613\n",
      "           1       0.87      0.88      0.88       637\n",
      "\n",
      "    accuracy                           0.87      1250\n",
      "   macro avg       0.87      0.87      0.87      1250\n",
      "weighted avg       0.87      0.87      0.87      1250\n",
      "\n",
      "{'ppv': 0.8686244204018547, 'npv': 0.8756218905472637, 'specificity': 0.8613376835236541, 'sensitivity': 0.8822605965463108}\n",
      "Best Threshold (Youdens J Stat)=0.673826\n",
      "Optimal Threshold cutoff\n",
      "              precision    recall  f1-score   support\n",
      "\n",
      "           0       0.84      0.92      0.88       613\n",
      "           1       0.91      0.84      0.87       637\n",
      "\n",
      "    accuracy                           0.88      1250\n",
      "   macro avg       0.88      0.88      0.88      1250\n",
      "weighted avg       0.88      0.88      0.88      1250\n",
      "\n"
     ]
    },
    {
     "data": {
      "text/html": [
       "<div>\n",
       "<style scoped>\n",
       "    .dataframe tbody tr th:only-of-type {\n",
       "        vertical-align: middle;\n",
       "    }\n",
       "\n",
       "    .dataframe tbody tr th {\n",
       "        vertical-align: top;\n",
       "    }\n",
       "\n",
       "    .dataframe thead th {\n",
       "        text-align: right;\n",
       "    }\n",
       "</style>\n",
       "<table border=\"1\" class=\"dataframe\">\n",
       "  <thead>\n",
       "    <tr style=\"text-align: right;\">\n",
       "      <th>col_0</th>\n",
       "      <th>False</th>\n",
       "      <th>True</th>\n",
       "    </tr>\n",
       "    <tr>\n",
       "      <th>row_0</th>\n",
       "      <th></th>\n",
       "      <th></th>\n",
       "    </tr>\n",
       "  </thead>\n",
       "  <tbody>\n",
       "    <tr>\n",
       "      <th>0</th>\n",
       "      <td>561</td>\n",
       "      <td>52</td>\n",
       "    </tr>\n",
       "    <tr>\n",
       "      <th>1</th>\n",
       "      <td>104</td>\n",
       "      <td>533</td>\n",
       "    </tr>\n",
       "  </tbody>\n",
       "</table>\n",
       "</div>"
      ],
      "text/plain": [
       "col_0  False  True\n",
       "row_0             \n",
       "0        561    52\n",
       "1        104   533"
      ]
     },
     "metadata": {},
     "output_type": "display_data"
    },
    {
     "name": "stdout",
     "output_type": "stream",
     "text": [
      "{'ppv': 0.9111111111111111, 'npv': 0.843609022556391, 'specificity': 0.9151712887438825, 'sensitivity': 0.8367346938775511}\n"
     ]
    },
    {
     "data": {
      "image/png": "[encoded data removed]",
      "text/plain": [
       "<Figure size 432x288 with 1 Axes>"
      ]
     },
     "metadata": {
      "needs_background": "light"
     },
     "output_type": "display_data"
    }
   ],
   "source": [
    "gnb = GaussianNB()\n",
    "X_train, X_test, y_train, y_test = get_dummy_data()\n",
    "trainBaselines(gnb, X_train, X_test, y_train, y_test)"
   ]
  },
  {
   "cell_type": "markdown",
   "metadata": {},
   "source": [
    "## Baseline -- Decision Tree"
   ]
  },
  {
   "cell_type": "code",
   "execution_count": 8,
   "metadata": {
    "scrolled": true,
    "tags": []
   },
   "outputs": [
    {
     "data": {
      "text/html": [
       "<div>\n",
       "<style scoped>\n",
       "    .dataframe tbody tr th:only-of-type {\n",
       "        vertical-align: middle;\n",
       "    }\n",
       "\n",
       "    .dataframe tbody tr th {\n",
       "        vertical-align: top;\n",
       "    }\n",
       "\n",
       "    .dataframe thead th {\n",
       "        text-align: right;\n",
       "    }\n",
       "</style>\n",
       "<table border=\"1\" class=\"dataframe\">\n",
       "  <thead>\n",
       "    <tr style=\"text-align: right;\">\n",
       "      <th>col_0</th>\n",
       "      <th>0</th>\n",
       "      <th>1</th>\n",
       "    </tr>\n",
       "    <tr>\n",
       "      <th>row_0</th>\n",
       "      <th></th>\n",
       "      <th></th>\n",
       "    </tr>\n",
       "  </thead>\n",
       "  <tbody>\n",
       "    <tr>\n",
       "      <th>0</th>\n",
       "      <td>503</td>\n",
       "      <td>125</td>\n",
       "    </tr>\n",
       "    <tr>\n",
       "      <th>1</th>\n",
       "      <td>101</td>\n",
       "      <td>521</td>\n",
       "    </tr>\n",
       "  </tbody>\n",
       "</table>\n",
       "</div>"
      ],
      "text/plain": [
       "col_0    0    1\n",
       "row_0          \n",
       "0      503  125\n",
       "1      101  521"
      ]
     },
     "metadata": {},
     "output_type": "display_data"
    },
    {
     "name": "stdout",
     "output_type": "stream",
     "text": [
      "              precision    recall  f1-score   support\n",
      "\n",
      "           0       0.83      0.80      0.82       628\n",
      "           1       0.81      0.84      0.82       622\n",
      "\n",
      "    accuracy                           0.82      1250\n",
      "   macro avg       0.82      0.82      0.82      1250\n",
      "weighted avg       0.82      0.82      0.82      1250\n",
      "\n",
      "{'ppv': 0.8065015479876161, 'npv': 0.8327814569536424, 'specificity': 0.8009554140127388, 'sensitivity': 0.837620578778135}\n",
      "Best Threshold (Youdens J Stat)=1.000000\n",
      "Optimal Threshold cutoff\n",
      "              precision    recall  f1-score   support\n",
      "\n",
      "           0       0.50      1.00      0.67       628\n",
      "           1       0.00      0.00      0.00       622\n",
      "\n",
      "    accuracy                           0.50      1250\n",
      "   macro avg       0.25      0.50      0.33      1250\n",
      "weighted avg       0.25      0.50      0.34      1250\n",
      "\n"
     ]
    },
    {
     "name": "stderr",
     "output_type": "stream",
     "text": [
      "Precision and F-score are ill-defined and being set to 0.0 in labels with no predicted samples. Use `zero_division` parameter to control this behavior.\n",
      "Precision and F-score are ill-defined and being set to 0.0 in labels with no predicted samples. Use `zero_division` parameter to control this behavior.\n",
      "Precision and F-score are ill-defined and being set to 0.0 in labels with no predicted samples. Use `zero_division` parameter to control this behavior.\n"
     ]
    },
    {
     "data": {
      "text/html": [
       "<div>\n",
       "<style scoped>\n",
       "    .dataframe tbody tr th:only-of-type {\n",
       "        vertical-align: middle;\n",
       "    }\n",
       "\n",
       "    .dataframe tbody tr th {\n",
       "        vertical-align: top;\n",
       "    }\n",
       "\n",
       "    .dataframe thead th {\n",
       "        text-align: right;\n",
       "    }\n",
       "</style>\n",
       "<table border=\"1\" class=\"dataframe\">\n",
       "  <thead>\n",
       "    <tr style=\"text-align: right;\">\n",
       "      <th>col_0</th>\n",
       "      <th>False</th>\n",
       "    </tr>\n",
       "    <tr>\n",
       "      <th>row_0</th>\n",
       "      <th></th>\n",
       "    </tr>\n",
       "  </thead>\n",
       "  <tbody>\n",
       "    <tr>\n",
       "      <th>0</th>\n",
       "      <td>628</td>\n",
       "    </tr>\n",
       "    <tr>\n",
       "      <th>1</th>\n",
       "      <td>622</td>\n",
       "    </tr>\n",
       "  </tbody>\n",
       "</table>\n",
       "</div>"
      ],
      "text/plain": [
       "col_0  False\n",
       "row_0       \n",
       "0        628\n",
       "1        622"
      ]
     },
     "metadata": {},
     "output_type": "display_data"
    },
    {
     "name": "stdout",
     "output_type": "stream",
     "text": [
      "{'ppv': nan, 'npv': 0.5024, 'specificity': 1.0, 'sensitivity': 0.0}\n"
     ]
    },
    {
     "name": "stderr",
     "output_type": "stream",
     "text": [
      "invalid value encountered in long_scalars\n"
     ]
    },
    {
     "data": {
      "image/png": "[encoded data removed]",
      "text/plain": [
       "<Figure size 432x288 with 1 Axes>"
      ]
     },
     "metadata": {
      "needs_background": "light"
     },
     "output_type": "display_data"
    }
   ],
   "source": [
    "DTC = tree.DecisionTreeClassifier()\n",
    "X_train, X_test, y_train, y_test = get_dummy_data()\n",
    "trainBaselines(DTC, X_train, X_test, y_train, y_test)"
   ]
  },
  {
   "cell_type": "markdown",
   "metadata": {},
   "source": [
    "## Baseline -- Random Forest"
   ]
  },
  {
   "cell_type": "code",
   "execution_count": 9,
   "metadata": {
    "scrolled": true,
    "tags": []
   },
   "outputs": [
    {
     "data": {
      "text/html": [
       "<div>\n",
       "<style scoped>\n",
       "    .dataframe tbody tr th:only-of-type {\n",
       "        vertical-align: middle;\n",
       "    }\n",
       "\n",
       "    .dataframe tbody tr th {\n",
       "        vertical-align: top;\n",
       "    }\n",
       "\n",
       "    .dataframe thead th {\n",
       "        text-align: right;\n",
       "    }\n",
       "</style>\n",
       "<table border=\"1\" class=\"dataframe\">\n",
       "  <thead>\n",
       "    <tr style=\"text-align: right;\">\n",
       "      <th>col_0</th>\n",
       "      <th>0</th>\n",
       "      <th>1</th>\n",
       "    </tr>\n",
       "    <tr>\n",
       "      <th>row_0</th>\n",
       "      <th></th>\n",
       "      <th></th>\n",
       "    </tr>\n",
       "  </thead>\n",
       "  <tbody>\n",
       "    <tr>\n",
       "      <th>0</th>\n",
       "      <td>558</td>\n",
       "      <td>58</td>\n",
       "    </tr>\n",
       "    <tr>\n",
       "      <th>1</th>\n",
       "      <td>87</td>\n",
       "      <td>547</td>\n",
       "    </tr>\n",
       "  </tbody>\n",
       "</table>\n",
       "</div>"
      ],
      "text/plain": [
       "col_0    0    1\n",
       "row_0          \n",
       "0      558   58\n",
       "1       87  547"
      ]
     },
     "metadata": {},
     "output_type": "display_data"
    },
    {
     "name": "stdout",
     "output_type": "stream",
     "text": [
      "              precision    recall  f1-score   support\n",
      "\n",
      "           0       0.87      0.91      0.89       616\n",
      "           1       0.90      0.86      0.88       634\n",
      "\n",
      "    accuracy                           0.88      1250\n",
      "   macro avg       0.88      0.88      0.88      1250\n",
      "weighted avg       0.88      0.88      0.88      1250\n",
      "\n",
      "{'ppv': 0.9041322314049587, 'npv': 0.8651162790697674, 'specificity': 0.9058441558441559, 'sensitivity': 0.862776025236593}\n",
      "Best Threshold (Youdens J Stat)=0.590000\n",
      "Optimal Threshold cutoff\n",
      "              precision    recall  f1-score   support\n",
      "\n",
      "           0       0.85      0.94      0.89       616\n",
      "           1       0.93      0.84      0.88       634\n",
      "\n",
      "    accuracy                           0.89      1250\n",
      "   macro avg       0.89      0.89      0.89      1250\n",
      "weighted avg       0.89      0.89      0.89      1250\n",
      "\n"
     ]
    },
    {
     "data": {
      "text/html": [
       "<div>\n",
       "<style scoped>\n",
       "    .dataframe tbody tr th:only-of-type {\n",
       "        vertical-align: middle;\n",
       "    }\n",
       "\n",
       "    .dataframe tbody tr th {\n",
       "        vertical-align: top;\n",
       "    }\n",
       "\n",
       "    .dataframe thead th {\n",
       "        text-align: right;\n",
       "    }\n",
       "</style>\n",
       "<table border=\"1\" class=\"dataframe\">\n",
       "  <thead>\n",
       "    <tr style=\"text-align: right;\">\n",
       "      <th>col_0</th>\n",
       "      <th>False</th>\n",
       "      <th>True</th>\n",
       "    </tr>\n",
       "    <tr>\n",
       "      <th>row_0</th>\n",
       "      <th></th>\n",
       "      <th></th>\n",
       "    </tr>\n",
       "  </thead>\n",
       "  <tbody>\n",
       "    <tr>\n",
       "      <th>0</th>\n",
       "      <td>577</td>\n",
       "      <td>39</td>\n",
       "    </tr>\n",
       "    <tr>\n",
       "      <th>1</th>\n",
       "      <td>103</td>\n",
       "      <td>531</td>\n",
       "    </tr>\n",
       "  </tbody>\n",
       "</table>\n",
       "</div>"
      ],
      "text/plain": [
       "col_0  False  True\n",
       "row_0             \n",
       "0        577    39\n",
       "1        103   531"
      ]
     },
     "metadata": {},
     "output_type": "display_data"
    },
    {
     "name": "stdout",
     "output_type": "stream",
     "text": [
      "{'ppv': 0.9315789473684211, 'npv': 0.8485294117647059, 'specificity': 0.9366883116883117, 'sensitivity': 0.8375394321766562}\n"
     ]
    },
    {
     "data": {
      "image/png": "[encoded data removed]",
      "text/plain": [
       "<Figure size 432x288 with 1 Axes>"
      ]
     },
     "metadata": {
      "needs_background": "light"
     },
     "output_type": "display_data"
    }
   ],
   "source": [
    "RFC = RandomForestClassifier(random_state=SEED)\n",
    "X_train, X_test, y_train, y_test = get_dummy_data()\n",
    "trainBaselines(RFC, X_train, X_test, y_train, y_test)"
   ]
  },
  {
   "cell_type": "markdown",
   "metadata": {},
   "source": [
    "## Baseline -- XGBOOST"
   ]
  },
  {
   "cell_type": "code",
   "execution_count": null,
   "metadata": {},
   "outputs": [],
   "source": [
    "classify_xgb = xgb.XGBClassifier(\n",
    "    objective = 'binary:logistic',\n",
    "    seed = SEED,\n",
    ")\n",
    "X_train, X_test, y_train, y_test = get_dummy_data()\n",
    "trainBaselines(classify_xgb, X_train, X_test, y_train, y_test)"
   ]
  },
  {
   "cell_type": "markdown",
   "metadata": {},
   "source": [
    "# GridsearchCV -- XGBOOST"
   ]
  },
  {
   "cell_type": "code",
   "execution_count": null,
   "metadata": {},
   "outputs": [],
   "source": [
    "from sklearn.metrics import f1_score\n",
    "import numpy as np\n",
    "\n",
    "def f1_eval(y_pred, dtrain):\n",
    "    y_true = dtrain.get_label()\n",
    "    err = 1-f1_score(y_true, np.round(y_pred), average=None)\n",
    "    return 'f1_err', err"
   ]
  },
  {
   "cell_type": "code",
   "execution_count": null,
   "metadata": {},
   "outputs": [],
   "source": [
    "classify_xgb = xgb.XGBClassifier(\n",
    "    objective = 'binary:logistic',\n",
    "    #missing = nan,\n",
    "    seed = SEED,\n",
    "    scale_pos_weight = 400, # approx \n",
    "    n_estimators=200\n",
    ")"
   ]
  },
  {
   "cell_type": "code",
   "execution_count": null,
   "metadata": {},
   "outputs": [],
   "source": [
    "from sklearn.model_selection import GridSearchCV\n",
    "parameters = {#'nthread':[2], #when use hyperthread, xgboost may become slower\n",
    "              'objective':['binary:logistic'],\n",
    "              'learning_rate': [0.3, 0.4, 0.5], #so called `eta` value\n",
    "              'max_depth': [x for x in range(4, 10)],\n",
    "              #'scale_pos_weight':[100,400],\n",
    "              'reg_lambda':[1,10,20,40]\n",
    "              #'min_child_weight': [11],\n",
    "              #'silent': [1],\n",
    "              #'subsample': [0.8],\n",
    "              #'colsample_bytree': [0.7],\n",
    "              #'n_estimators': [5], #number of trees, change it to 1000 for better results\n",
    "              #'missing':[-999],\n",
    "              #'eval_metric': ['auc', f1_eval],\n",
    "              #'seed': [SEED],\n",
    "              #'verbose':[False]\n",
    "            }\n"
   ]
  },
  {
   "cell_type": "code",
   "execution_count": null,
   "metadata": {},
   "outputs": [],
   "source": [
    "classify_xgb_GS = GridSearchCV(classify_xgb, parameters, n_jobs=1, \n",
    "                                scoring='roc_auc',#make_scorer(f1_score, average='binary'),#'roc_auc',\n",
    "                                cv=5,\n",
    "                                verbose=2, refit=True)"
   ]
  },
  {
   "cell_type": "code",
   "execution_count": null,
   "metadata": {
    "scrolled": true,
    "tags": []
   },
   "outputs": [],
   "source": [
    "classify_xgb_GS.fit(X_train, y_train)"
   ]
  },
  {
   "cell_type": "code",
   "execution_count": null,
   "metadata": {},
   "outputs": [],
   "source": [
    "print(classify_xgb_GS.best_params_)\n",
    "print(classify_xgb_GS.best_score_)"
   ]
  },
  {
   "cell_type": "code",
   "execution_count": null,
   "metadata": {},
   "outputs": [],
   "source": [
    "y_test_pred = classify_xgb_GS.predict(X_test)\n",
    "y_test_pred_prob = classify_xgb_GS.predict_proba(X_test)"
   ]
  },
  {
   "cell_type": "code",
   "execution_count": null,
   "metadata": {},
   "outputs": [],
   "source": [
    "classify_xgb_save = classify_xgb_GS.best_estimator_.fit(X_train,y_train)"
   ]
  },
  {
   "cell_type": "code",
   "execution_count": null,
   "metadata": {},
   "outputs": [],
   "source": [
    "model_perf(classify_xgb_GS,X_test,y_test,stats=True,roc_plot=True, optimal_thresh=True, crosstab=True)# custom_thresh=[0.8, 0.001]"
   ]
  },
  {
   "cell_type": "code",
   "execution_count": null,
   "metadata": {},
   "outputs": [],
   "source": [
    "# Lets store results\n",
    "import pickle\n",
    "train_list = [classify_xgb_save,X_save,y_save,X_save_ids,save_ids]\n",
    "fpath = './models/xgb_classifier_train_test_without_specialty_5y.pkl'\n",
    "with open(fpath,\"wb\") as open_file:\n",
    "    pickle.dump(train_list,open_file)"
   ]
  },
  {
   "cell_type": "markdown",
   "metadata": {},
   "source": [
    "# ROC curve"
   ]
  },
  {
   "cell_type": "code",
   "execution_count": null,
   "metadata": {},
   "outputs": [],
   "source": [
    "# Roc Curve\n",
    "fpr, tpr, threshold = roc_curve(y_test, y_test_pred_prob[:,1])\n",
    "roc_auc = auc(fpr, tpr)\n",
    "# precision recall curve\n",
    "precision, recall, thresholds = precision_recall_curve(y_test, y_test_pred_prob[:,1])\n",
    "# calculate precision-recall AUC\n",
    "pr_auc = auc(recall, precision)"
   ]
  },
  {
   "cell_type": "code",
   "execution_count": null,
   "metadata": {},
   "outputs": [],
   "source": [
    "# try bootstrap method:\n",
    "#found here: https://machinelearningmastery.com/calculate-bootstrap-confidence-intervals-machine-learning-results-python/\n",
    "# and: https://stackoverflow.com/questions/52373318/how-to-compare-roc-auc-scores-of-different-binary-classifiers-and-assess-statist\n",
    "from copy import deepcopy\n",
    "from sklearn.base import clone as skClone\n",
    "from sklearn.utils import resample\n",
    "import numpy as np\n",
    "from collections import defaultdict\n",
    "# configure bootstrap\n",
    "def bootstrap_auc(fit_clf, X_train, y_train, X_test, y_test, nsamples=1000):\n",
    "    statistics = {}\n",
    "    for b in range(nsamples):\n",
    "        clf = skClone(fit_clf)# gives us a unfit clone of the classifier\n",
    "        idx = np.random.randint(X_train.shape[0], size=X_train.shape[0])\n",
    "        clf.fit(X_train.iloc[idx], y_train.iloc[idx])\n",
    "        pred = clf.predict_proba(X_test)[:, 1]\n",
    "        #roc_auc = roc_auc_score(y_test.ravel(), pred.ravel())\n",
    "        fpr, tpr, threshold = roc_curve(y_test.ravel(), pred.ravel())\n",
    "        roc_auc = auc(fpr, tpr)\n",
    "        precision, recall, thresholds = precision_recall_curve(y_test.ravel(), pred.ravel())\n",
    "        pr_auc = auc(recall, precision)\n",
    "        statistics[b] = {'roc_auc': roc_auc, 'fpr': fpr, 'tpr': tpr, 'precision': precision, 'recall': recall, 'pr_auc':pr_auc}\n",
    "        \n",
    "    return statistics#np.percentile(auc_values, (2.5, 97.5))"
   ]
  },
  {
   "cell_type": "code",
   "execution_count": null,
   "metadata": {
    "scrolled": true,
    "tags": []
   },
   "outputs": [],
   "source": [
    "bootstrap_stats = bootstrap_auc(classify_xgb_GS, X_train, y_train, X_test, y_test, nsamples=200)"
   ]
  },
  {
   "cell_type": "code",
   "execution_count": null,
   "metadata": {},
   "outputs": [],
   "source": [
    "roc_aucs = []\n",
    "pr_aucs = []\n",
    "for i in range(len(bootstrap_stats)):\n",
    "    roc_aucs.append(bootstrap_stats[i]['roc_auc'])\n",
    "    pr_aucs.append(bootstrap_stats[i]['pr_auc'])\n",
    "roc_CI = np.percentile(roc_aucs, (2.5, 97.5))\n",
    "pr_CI = np.percentile(pr_aucs, (2.5, 97.5))"
   ]
  },
  {
   "cell_type": "code",
   "execution_count": null,
   "metadata": {},
   "outputs": [],
   "source": [
    "fig, (ax1, ax2) = plt.subplots(1, 2,figsize=(15,5))\n",
    "ax1.set_title('Receiver Operating Characteristic')\n",
    "ax1.plot(fpr, tpr, 'b', label = 'AUC = {:.2f} [CI={:.3f},{:.3f}]'.format(roc_auc, roc_CI[0], roc_CI[1]))\n",
    "#plt.plot(bootstrap_stats[maxIDX]['fpr'], bootstrap_stats[maxIDX]['tpr'], 'r')\n",
    "#plt.plot(bootstrap_stats[minIDX]['fpr'], bootstrap_stats[minIDX]['tpr'], 'r')\n",
    "ax1.fill_between(fpr, (tpr-(roc_CI[1]- roc_CI[0])), (tpr+(roc_CI[1]- roc_CI[0])), alpha=0.2)\n",
    "ax1.legend(loc = 'lower right')\n",
    "ax1.plot([0, 1], [0, 1],'r--')\n",
    "ax1.set_xlim([0, 1])\n",
    "ax1.set_ylim([0, 1])\n",
    "ax1.set_ylabel('True Positive Rate')\n",
    "ax1.set_xlabel('False Positive Rate')\n",
    "ax2.set_title('Precision Recall Curve')\n",
    "ax2.plot(recall, precision, 'b', label = 'AUC = {:.2f} [CI={:.3f},{:.3f}]'.format(pr_auc, pr_CI[0], pr_CI[1]))\n",
    "# fill between\n",
    "ax2.fill_between(recall, (precision-(pr_CI[1]- pr_CI[0])), (precision+(pr_CI[1]- pr_CI[0])), alpha=0.2)\n",
    "# calculate the no skill line as the proportion of the positive class\n",
    "no_skill = len(y_test[y_test==1]) / len(y_test)# Essentially the fraction of positive classes/total number of examples\n",
    "# plot the no skill precision-recall curve\n",
    "ax2.plot([0, 1], [no_skill, no_skill], 'r--', label='No Skill = %0.2f' % no_skill)\n",
    "ax2.legend(loc = 'best')\n",
    "ax2.set_xlim([0, 1])\n",
    "ax2.set_ylim([0, 1])\n",
    "ax2.set_xlabel('Recall')\n",
    "ax2.set_ylabel('Precision')\n",
    "plt.show()"
   ]
  },
  {
   "cell_type": "code",
   "execution_count": null,
   "metadata": {},
   "outputs": [],
   "source": [
    "ehr_data_ = pd.read_pickle('./data/processed/turbo_7_29_22_deid_processed_3_ROUND_5y_TENURE_NO_STUDYDAY.pkl')"
   ]
  },
  {
   "cell_type": "code",
   "execution_count": null,
   "metadata": {},
   "outputs": [],
   "source": [
    "len(ehr_data_[ehr_data_['departure_in_interval'] == True]['physician_id'].unique())"
   ]
  },
  {
   "cell_type": "code",
   "execution_count": null,
   "metadata": {},
   "outputs": [],
   "source": [
    "44/len(ehr_data_['physician_id'].unique())"
   ]
  },
  {
   "cell_type": "markdown",
   "metadata": {},
   "source": [
    "# END"
   ]
  }
 ],
 "metadata": {
  "interpreter": {
   "hash": "aebeff7af16a3e74dfb8d2ca55a8624561b514dde17729b916609a121bafd8b7"
  },
  "kernelspec": {
   "display_name": "Python 3 (ipykernel)",
   "language": "python",
   "name": "python3"
  },
  "language_info": {
   "codemirror_mode": {
    "name": "ipython",
    "version": 3
   },
   "file_extension": ".py",
   "mimetype": "text/x-python",
   "name": "python",
   "nbconvert_exporter": "python",
   "pygments_lexer": "ipython3",
   "version": "3.10.7"
  }
 },
 "nbformat": 4,
 "nbformat_minor": 4
}
